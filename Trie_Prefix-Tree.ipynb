{
 "cells": [
  {
   "cell_type": "code",
   "execution_count": null,
   "metadata": {},
   "outputs": [],
   "source": [
    "class Trie:\n",
    "    class Node:\n",
    "        char = ''\n",
    "        children = dict()\n",
    "        isWord = False\n",
    "    \n",
    "    root = Node()\n",
    "    \n",
    "    def insert(self, word):\n",
    "        current = self.root\n",
    "        for i in range(0, len(word)):\n",
    "            char = word[i]\n",
    "            if char not in current.children:\n",
    "                node = Node()\n",
    "                node.char = char\n",
    "                if i == (len(word) - 1):\n",
    "                    node.isWord = True\n",
    "                current.children[char] = node\n",
    "            current = current.children[char]\n",
    "        return\n",
    "    \n",
    "    def search(self, word):\n",
    "        current = self.root\n",
    "        for i in range(0, len(word)):\n",
    "            char = word[i]\n",
    "            if char in current.children:\n",
    "                current = current.children[char]\n",
    "            else:\n",
    "                return False\n",
    "        return True and current.isWord\n",
    "    \n",
    "    "
   ]
  }
 ],
 "metadata": {
  "kernelspec": {
   "display_name": "Python 3",
   "language": "python",
   "name": "python3"
  },
  "language_info": {
   "codemirror_mode": {
    "name": "ipython",
    "version": 3
   },
   "file_extension": ".py",
   "mimetype": "text/x-python",
   "name": "python",
   "nbconvert_exporter": "python",
   "pygments_lexer": "ipython3",
   "version": "3.7.4"
  }
 },
 "nbformat": 4,
 "nbformat_minor": 4
}
