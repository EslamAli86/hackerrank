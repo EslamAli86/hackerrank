{
 "cells": [
  {
   "cell_type": "code",
   "execution_count": 1,
   "metadata": {},
   "outputs": [],
   "source": [
    "import math\n",
    "import os\n",
    "import random\n",
    "import re\n",
    "import sys\n"
   ]
  },
  {
   "cell_type": "code",
   "execution_count": 2,
   "metadata": {},
   "outputs": [
    {
     "name": "stdout",
     "output_type": "stream",
     "text": [
      "(3, 2)\n",
      "(4, 1)\n",
      "(4, 5)\n",
      "(29, 46)\n",
      "(11, 56)\n",
      "(5, 4)\n",
      "(40, 46)\n",
      "(16, 35)\n",
      "(55, 74)\n",
      "(7, 9)\n"
     ]
    }
   ],
   "source": [
    "\n",
    "# Complete the icecreamParlor function below.\n",
    "def icecreamParlor(m, arr):\n",
    "    i, j = -1, -1\n",
    "    \n",
    "    for k in range(0, len(arr)):\n",
    "        for l in range(k + 1, len(arr)):\n",
    "            if arr[k] + arr[l] == m:\n",
    "                if arr[k] <= arr[l]:\n",
    "                    i = k\n",
    "                    j = l\n",
    "                else:\n",
    "                    i = l\n",
    "                    j = k\n",
    "                break\n",
    "    \n",
    "    return i+1, j+1\n",
    "\n",
    "\n",
    "# fptr = open(os.environ['OUTPUT_PATH'], 'w')\n",
    "\n",
    "file = open('input.txt', 'r')\n",
    "lines = file.readlines()\n",
    "\n",
    "t = int(lines[0]) * 3\n",
    "\n",
    "for t_itr in range(1, t, 3):\n",
    "    m = int(lines[t_itr])\n",
    "\n",
    "    n = int(lines[t_itr + 1])\n",
    "\n",
    "    arr = list(map(int, lines[t_itr + 2].rstrip().split()))\n",
    "\n",
    "    result = icecreamParlor(m, arr)\n",
    "\n",
    "    print(result)"
   ]
  },
  {
   "cell_type": "code",
   "execution_count": null,
   "metadata": {},
   "outputs": [],
   "source": []
  }
 ],
 "metadata": {
  "kernelspec": {
   "display_name": "Python 3",
   "language": "python",
   "name": "python3"
  },
  "language_info": {
   "codemirror_mode": {
    "name": "ipython",
    "version": 3
   },
   "file_extension": ".py",
   "mimetype": "text/x-python",
   "name": "python",
   "nbconvert_exporter": "python",
   "pygments_lexer": "ipython3",
   "version": "3.7.4"
  }
 },
 "nbformat": 4,
 "nbformat_minor": 4
}
