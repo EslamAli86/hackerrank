{
 "cells": [
  {
   "cell_type": "markdown",
   "metadata": {},
   "source": [
    "# Quick sort"
   ]
  },
  {
   "cell_type": "code",
   "execution_count": 5,
   "metadata": {},
   "outputs": [
    {
     "name": "stdout",
     "output_type": "stream",
     "text": [
      "[1, 2, 5, 7, 10]\n"
     ]
    }
   ],
   "source": [
    "def quicksort(arr, left, right):\n",
    "    if left >= right:\n",
    "        return\n",
    "    \n",
    "    pivot = arr[int( (left + right) / 2)]\n",
    "    index = conquer(arr, pivot, left, right)\n",
    "    quicksort(arr, left, index)\n",
    "    quicksort(arr, index + 1, right)\n",
    "    return\n",
    "\n",
    "def conquer(arr, pivot, left, right):\n",
    "    while left < right:\n",
    "        while arr[left] < pivot:\n",
    "            left += 1\n",
    "        \n",
    "        while arr[right] > pivot:\n",
    "            right -= 1\n",
    "        \n",
    "        if left < right:\n",
    "            tmp = arr[left]\n",
    "            arr[left] = arr[right]\n",
    "            arr[right] = tmp\n",
    "            left += 1\n",
    "            right -= 1\n",
    "    return left\n",
    "\n",
    "a = [1, 10, 5, 2, 7]\n",
    "quicksort(a, 0, len(a) - 1)\n",
    "print(a)"
   ]
  },
  {
   "cell_type": "markdown",
   "metadata": {},
   "source": [
    "# Merge sort"
   ]
  },
  {
   "cell_type": "code",
   "execution_count": 10,
   "metadata": {},
   "outputs": [
    {
     "name": "stdout",
     "output_type": "stream",
     "text": [
      "[1, 2, 5, 7, 10]\n"
     ]
    }
   ],
   "source": [
    "def mergesort(arr):\n",
    "    tmp = [0]*len(arr)\n",
    "    mergesort_helper(arr, tmp, 0, len(arr) - 1)\n",
    "    return\n",
    "\n",
    "def mergesort_helper(arr, tmp, left, right):\n",
    "    if left >= right:\n",
    "        return\n",
    "    \n",
    "    middle = int( (left + right) / 2 )\n",
    "    mergesort_helper(arr, tmp, left, middle)\n",
    "    mergesort_helper(arr, tmp, middle + 1, right)\n",
    "    merge(arr, tmp, left, right)\n",
    "    return\n",
    "\n",
    "def merge(arr, tmp, left, right):\n",
    "    mid = int( (left + right) / 2)\n",
    "    leftStart = left\n",
    "    rightStart = mid + 1\n",
    "    counter = left\n",
    "    \n",
    "    while leftStart <= mid and rightStart <= right:\n",
    "        if arr[leftStart] > arr[rightStart]:\n",
    "            tmp[counter] = arr[rightStart]\n",
    "            rightStart += 1\n",
    "        else:\n",
    "            tmp[counter] = arr[leftStart]\n",
    "            leftStart += 1\n",
    "        counter += 1\n",
    "    \n",
    "    while leftStart <= mid:\n",
    "        tmp[counter] = arr[leftStart]\n",
    "        counter += 1\n",
    "        leftStart += 1\n",
    "\n",
    "    while rightStart <= right:\n",
    "        tmp[counter] = arr[rightStart]\n",
    "        counter += 1\n",
    "        rightStart += 1\n",
    "    for i in range(left, right + 1):\n",
    "        arr[i] = tmp[i]\n",
    "    return\n",
    "\n",
    "a = [1, 10, 5, 2, 7]\n",
    "mergesort(a)\n",
    "print(a)"
   ]
  },
  {
   "cell_type": "code",
   "execution_count": null,
   "metadata": {},
   "outputs": [],
   "source": []
  }
 ],
 "metadata": {
  "kernelspec": {
   "display_name": "Python 3",
   "language": "python",
   "name": "python3"
  },
  "language_info": {
   "codemirror_mode": {
    "name": "ipython",
    "version": 3
   },
   "file_extension": ".py",
   "mimetype": "text/x-python",
   "name": "python",
   "nbconvert_exporter": "python",
   "pygments_lexer": "ipython3",
   "version": "3.7.4"
  }
 },
 "nbformat": 4,
 "nbformat_minor": 4
}
